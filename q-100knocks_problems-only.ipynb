{
 "cells": [
  {
   "cell_type": "code",
   "execution_count": 1,
   "id": "68e762e6",
   "metadata": {},
   "outputs": [],
   "source": [
    "from itertools import permutations\n",
    "\n",
    "import matplotlib.pyplot as plt\n",
    "import networkx as nx\n",
    "import numpy as np\n",
    "from qiskit import (\n",
    "    Aer, \n",
    "    BasicAer,\n",
    "    ClassicalRegister,\n",
    "    QuantumCircuit,\n",
    "    QuantumRegister,\n",
    "    execute,\n",
    "    transpile,\n",
    ")\n",
    "from qiskit.algorithms.minimum_eigensolvers import (\n",
    "    QAOA,\n",
    "    NumPyMinimumEigensolver,\n",
    "    SamplingVQE,\n",
    ")\n",
    "from qiskit.algorithms.optimizers import COBYLA, SPSA\n",
    "from qiskit.circuit.library import RealAmplitudes, TwoLocal\n",
    "from qiskit.primitives import Sampler\n",
    "from qiskit.quantum_info import Statevector\n",
    "from qiskit.tools.visualization import plot_histogram\n",
    "from qiskit.utils import algorithm_globals\n",
    "from qiskit.visualization import (\n",
    "    plot_bloch_multivector,\n",
    "    plot_bloch_vector,\n",
    "    plot_histogram,\n",
    "    plot_state_qsphere,\n",
    ")\n",
    "from qiskit_aer import Aer, AerSimulator\n",
    "from qiskit_aer.noise import NoiseModel, pauli_error, thermal_relaxation_error\n",
    "from qiskit_optimization import QuadraticProgram\n",
    "from qiskit_optimization.algorithms import (\n",
    "    GroverOptimizer,\n",
    "    MinimumEigenOptimizer,\n",
    "    SlsqpOptimizer,\n",
    "    WarmStartQAOAOptimizer,\n",
    ")\n",
    "from qiskit_optimization.applications import Tsp\n",
    "from qiskit_optimization.converters import QuadraticProgramToQubo\n",
    "\n",
    "sim = Aer.get_backend(\"aer_simulator\")"
   ]
  },
  {
   "cell_type": "markdown",
   "id": "d05d761a",
   "metadata": {},
   "source": [
    "## Q1 量子回路の作成・プロット\n",
    "4個の量子ビットを持つ量子レジスタと4個の古典ビットを持つ古典レジスタから構成される量子回路を作成し、回路図をプロットせよ。ただし、量子レジスタの名前を`QR`、古典レジスタの名前を`CR`とすること。"
   ]
  },
  {
   "cell_type": "markdown",
   "id": "2f1445c0",
   "metadata": {},
   "source": [
    "## Q2 測定\n",
    "4個の量子ビットを持つ量子レジスタ`QR`の第0量子ビットを測定し、結果を4個古典ビットを持つ古典レジスタ`CR`の第0古典ビットに格納する量子回路を作成せよ。また、作成した量子回路の回路図をプロットせよ。"
   ]
  },
  {
   "cell_type": "markdown",
   "id": "e58cb70a",
   "metadata": {},
   "source": [
    "## Q3 状態ベクトルから確率算出\n",
    "下記の量子回路において、量子ビットを測定した結果として$|0\\rangle$が得られる確率を、状態ベクトルから算出せよ。"
   ]
  },
  {
   "cell_type": "code",
   "execution_count": 4,
   "id": "96da624c",
   "metadata": {},
   "outputs": [
    {
     "data": {
      "image/png": "[encoded data removed]",
      "text/plain": [
       "<Figure size 185.453x200.667 with 1 Axes>"
      ]
     },
     "execution_count": 4,
     "metadata": {},
     "output_type": "execute_result"
    }
   ],
   "source": [
    "qc = QuantumCircuit(1, 1)\n",
    "qc.rx(theta=0.6, qubit=0)\n",
    "qc.draw(output=\"mpl\")"
   ]
  },
  {
   "cell_type": "markdown",
   "id": "3c29d68b",
   "metadata": {},
   "source": [
    "## Q4 $|0\\rangle$状態が得られる確率\n",
    "Q3の量子回路において、量子ビットを測定した結果として$|0\\rangle$が得られる確率を、量子ビットを測定する量子回路を作成し、シミュレーターを用いて確率を算出せよ。"
   ]
  },
  {
   "cell_type": "markdown",
   "id": "6b89c8cb",
   "metadata": {},
   "source": [
    "## Q5 2量子ビット回路の作成\n",
    " 2量子ビットの回路を作成し、両方の量子ビットを|0⟩状態から|1⟩状態に変更せよ。"
   ]
  },
  {
   "cell_type": "markdown",
   "id": "a86a4e7e",
   "metadata": {},
   "source": [
    "## Q6 アダマールゲート(1)\n",
    "1量子ビットを用意し、アダマールゲートを適用して量子状態を求めるプログラムを作成せよ。また、測定操作を行った際の確率分布を出力せよ。"
   ]
  },
  {
   "cell_type": "markdown",
   "id": "cba77e27",
   "metadata": {},
   "source": [
    "## Q7 アダマールゲート(2)\n",
    "2量子ビットの回路を作成し、アダマールゲートを使用して2つの量子ビットを重ね合わせ状態にせよ。"
   ]
  },
  {
   "cell_type": "markdown",
   "id": "3d35e88c",
   "metadata": {},
   "source": [
    "## Q8 アダマールゲート(3)\n",
    "3つの量子ビットを持つ回路を作成し、重ね合わせ状態を作れ。具体的には、初期量子ビットが|0>の状態で、各ビットが重ね合わせ状態$(|0\\rangle> + |1\\rangle>) / \\sqrt(2)$になるせよ。"
   ]
  },
  {
   "cell_type": "markdown",
   "id": "7b97c3aa",
   "metadata": {},
   "source": [
    "## Q9 CNOTゲート\n",
    "2量子ビットの回路を作成し、CNOTゲートを使用して1つの量子ビットの状態でもう一方の量子ビットを反転させなさい。"
   ]
  },
  {
   "cell_type": "markdown",
   "id": "29050413",
   "metadata": {},
   "source": [
    "## Q10 期待値計算(1)\n",
    "下記の量子回路で表される状態ベクトルにおけるパウリ行列`X`の期待値を計算する量子回路を作成せよ。また、作成した量子回路の回路図をプロットせよ。"
   ]
  },
  {
   "cell_type": "code",
   "execution_count": 12,
   "id": "0c031403",
   "metadata": {},
   "outputs": [
    {
     "data": {
      "image/png": "[encoded data removed]",
      "text/plain": [
       "<Figure size 185.453x200.667 with 1 Axes>"
      ]
     },
     "execution_count": 12,
     "metadata": {},
     "output_type": "execute_result"
    }
   ],
   "source": [
    "qc = QuantumCircuit(1, 1)\n",
    "qc.rx(theta=0.7, qubit=0)\n",
    "qc.draw(output=\"mpl\")"
   ]
  },
  {
   "cell_type": "markdown",
   "id": "1dacb3f4",
   "metadata": {},
   "source": [
    "## Q11 期待値計算(2)\n",
    "Q5に作成した量子回路を用いて、パウリ行列`X`の期待値をシミュレーターを用いて計算せよ。"
   ]
  },
  {
   "cell_type": "markdown",
   "id": "8acd79f3",
   "metadata": {},
   "source": [
    "## Q12 期待値計算(3)"
   ]
  },
  {
   "cell_type": "markdown",
   "id": "53878c53",
   "metadata": {},
   "source": [
    "任意の量子ビット状態$|q\\rangle$ (計算基底)に対するパウリ演算子の期待値を表せ。例としてパウリZゲートの期待値の場合を示す。\n",
    "\n",
    "$$\n",
    "\\begin{align}\n",
    "\\langle Z \\rangle &=\\langle q | Z | q\\rangle =\\langle q|0\\rangle\\langle 0|q\\rangle - \\langle q|1\\rangle\\langle 1|q\\rangle\n",
    "=|\\langle 0 |q\\rangle|^2 - |\\langle 1 | q\\rangle|^2 \\tag{1}\n",
    "\\end{align}\n",
    "$$\n"
   ]
  },
  {
   "cell_type": "markdown",
   "id": "9a323d5c",
   "metadata": {},
   "source": [
    "\n",
    "$$\n",
    "\\begin{align}\n",
    "    \\langle X \\rangle &= \\tag{2} \\\\\n",
    "    \\langle Y \\rangle &=  \\tag{3} \n",
    "\\end{align}\n",
    "$$"
   ]
  },
  {
   "cell_type": "markdown",
   "id": "e3c2aa33",
   "metadata": {},
   "source": [
    "## Q13　トフォリゲート (1)"
   ]
  },
  {
   "cell_type": "markdown",
   "id": "35d7fd8c",
   "metadata": {},
   "source": [
    "3つの量子ビットを持つ回路を作成し、トフォリゲート（CCXゲート）を使用して、最初の2つのビットが1のときのみ、次のビットにXゲートを適用するようにせよ。"
   ]
  },
  {
   "cell_type": "markdown",
   "id": "8d772db2",
   "metadata": {},
   "source": [
    "## Q14 トフォリゲート(2)\n",
    "3量子ビットの回路を作成し、Toffoliゲートと同じ効果を持つゲートを作成し、回路図を描画せよ。"
   ]
  },
  {
   "cell_type": "markdown",
   "id": "5eeaa802",
   "metadata": {},
   "source": [
    "## Q15 トフォリゲート(3)\n",
    "Q14で作成した回路のシミュレーション結果を描画せよ。"
   ]
  },
  {
   "cell_type": "markdown",
   "id": "ce32b3db",
   "metadata": {},
   "source": [
    "## Q16 トフォリゲート(4)\n",
    "Q15で作成したゲートがトフォリゲートと同じ結果になるか確認しなさい。"
   ]
  },
  {
   "cell_type": "markdown",
   "id": "a60b4fbc",
   "metadata": {},
   "source": [
    "## Q17 エンタングルメント"
   ]
  },
  {
   "cell_type": "markdown",
   "id": "3aed8a62",
   "metadata": {},
   "source": [
    "2量子ビットのエンタングルメントを作成せよ。"
   ]
  },
  {
   "cell_type": "markdown",
   "id": "e967530b",
   "metadata": {},
   "source": [
    "## Q18 Bell状態 (1)\n",
    "Bell状態を作成し、ヒストグラムで表示せよ。"
   ]
  },
  {
   "cell_type": "markdown",
   "id": "57469330",
   "metadata": {},
   "source": [
    "## Q19 Bell状態(2)"
   ]
  },
  {
   "cell_type": "markdown",
   "id": "d933e845",
   "metadata": {},
   "source": [
    "$\\frac{1}{2}(|01\\rangle + |10\\rangle)$ のBell状態を作成し、ブロッホ球で表示せよ。"
   ]
  },
  {
   "cell_type": "markdown",
   "id": "7babe62f",
   "metadata": {},
   "source": [
    "## Q20 Bell状態(3)"
   ]
  },
  {
   "cell_type": "markdown",
   "id": "ed422532",
   "metadata": {},
   "source": [
    "$\\frac{1}{2}(|01\\rangle - |10\\rangle)$ のBell状態を作成し、ヒストグラムで表示せよ。"
   ]
  },
  {
   "cell_type": "markdown",
   "id": "07881c1b",
   "metadata": {},
   "source": [
    "## Q21 Bell状態(4)"
   ]
  },
  {
   "cell_type": "markdown",
   "id": "aa165218",
   "metadata": {},
   "source": [
    "2つの量子ビットを持つ回路を作成し、1つ目のビットを|->状態にし、2つ目のビットを|1>状態にし、その後にCNOTゲートを適用し最終的な状態ベクトルを求めよ。"
   ]
  },
  {
   "cell_type": "markdown",
   "id": "f91f56a1",
   "metadata": {},
   "source": [
    "## Q22 GHZ状態 (1)\n",
    "GHZ状態（Bell状態の3量子ビットへ拡張）を作成し、ヒストグラムで表示せよ。"
   ]
  },
  {
   "cell_type": "markdown",
   "id": "bc279dca",
   "metadata": {},
   "source": [
    "## Q23 GHZ状態(2)"
   ]
  },
  {
   "cell_type": "markdown",
   "id": "5513f68e",
   "metadata": {},
   "source": [
    "3つの量子ビットを持つ回路を作成し、以下の操作を行え。\n",
    "最初のビットにアダマールゲートを適用する。\n",
    "次の2つのビットには、制御ゲートを使って最初のビットが|0>のときのみXゲートを適用する。\n",
    "最終的な状態ベクトルを求めよ。"
   ]
  },
  {
   "cell_type": "markdown",
   "id": "a1a9f0d1",
   "metadata": {},
   "source": [
    "## Q24 GHZ状態(3)\n",
    "n量子GHZ状態を作成せよ。"
   ]
  },
  {
   "cell_type": "markdown",
   "id": "aee3860a",
   "metadata": {},
   "source": [
    "## Q25 古典論理ゲート再現(1)"
   ]
  },
  {
   "cell_type": "markdown",
   "id": "13217c2e",
   "metadata": {},
   "source": [
    "Qiskitのxで表されるNOTゲート、cxで表されるCNOTゲート、およびccxで表されるToffoliゲートを使用して、XORを作成せよ。"
   ]
  },
  {
   "cell_type": "code",
   "execution_count": 27,
   "id": "8d16dcd0",
   "metadata": {},
   "outputs": [],
   "source": [
    "def XOR(input1,input2):\n",
    "    \n",
    "    q = QuantumRegister(2) # two qubits in which to encode and manipulate the input\n",
    "    c = ClassicalRegister(1) # a bit to store the output\n",
    "    qc = QuantumCircuit(q, c) # this is where the quantum program goes\n",
    "    \n",
    "    # YOUR QUANTUM PROGRAM GOES HERE    \n",
    "    qc.measure(q[1],c[0]) # YOU CAN CHANGE THIS IF YOU WANT TO\n",
    "    \n",
    "    # We'll run the program on a simulator\n",
    "    backend = Aer.get_backend('aer_simulator')\n",
    "    # Since the output will be deterministic, we can use just a single shot to get it\n",
    "    job = execute(qc,backend,shots=1,memory=True)\n",
    "    output = job.result().get_memory()[0]\n",
    "    \n",
    "    return output"
   ]
  },
  {
   "cell_type": "markdown",
   "id": "e637f1c3",
   "metadata": {},
   "source": [
    "## Q26 古典論理ゲート再現(2)"
   ]
  },
  {
   "cell_type": "markdown",
   "id": "27e7e480",
   "metadata": {},
   "source": [
    "Qiskitのxで表されるNOTゲート、cxで表されるCNOTゲート、およびccxで表されるToffoliゲートを使用して、ANDを作成せよ。"
   ]
  },
  {
   "cell_type": "code",
   "execution_count": 29,
   "id": "6a828925",
   "metadata": {},
   "outputs": [],
   "source": [
    "def AND(input1,input2):\n",
    "    \n",
    "    q = QuantumRegister(3) # two qubits in which to encode the input, and one for the output\n",
    "    c = ClassicalRegister(1) # a bit to store the output\n",
    "    qc = QuantumCircuit(q, c) # this is where the quantum program goes\n",
    "    \n",
    "    # YOUR QUANTUM PROGRAM GOES HERE\n",
    "    qc.measure(q[2],c[0]) # YOU CAN CHANGE THIS IF YOU WANT TO\n",
    "    \n",
    "    # We'll run the program on a simulator\n",
    "    backend = Aer.get_backend('aer_simulator')\n",
    "    # Since the output will be deterministic, we can use just a single shot to get it\n",
    "    job = execute(qc,backend,shots=1,memory=True)\n",
    "    output = job.result().get_memory()[0]\n",
    "    \n",
    "    return output"
   ]
  },
  {
   "cell_type": "markdown",
   "id": "eb7b1b80",
   "metadata": {},
   "source": [
    "## Q27 古典論理ゲート再現(3)"
   ]
  },
  {
   "cell_type": "markdown",
   "id": "fbb83f3f",
   "metadata": {},
   "source": [
    "Qiskitのxで表されるNOTゲート、cxで表されるCNOTゲート、およびccxで表されるToffoliゲートを使用して、NANDを作成せよ。"
   ]
  },
  {
   "cell_type": "code",
   "execution_count": 31,
   "id": "c688de72",
   "metadata": {},
   "outputs": [],
   "source": [
    "def NAND(input1,input2):\n",
    "  \n",
    "    q = QuantumRegister(3) # two qubits in which to encode the input, and one for the output\n",
    "    c = ClassicalRegister(1) # a bit to store the output\n",
    "    qc = QuantumCircuit(q, c) # this is where the quantum program goes\n",
    "    \n",
    "    # YOUR QUANTUM PROGRAM GOES HERE\n",
    "    qc.measure(q[2],c[0]) # YOU CAN CHANGE THIS IF YOU WANT TO\n",
    "    \n",
    "    # We'll run the program on a simulator\n",
    "    backend = Aer.get_backend('aer_simulator')\n",
    "    # Since the output will be deterministic, we can use just a single shot to get it\n",
    "    job = execute(qc,backend,shots=1,memory=True)\n",
    "    output = job.result().get_memory()[0]\n",
    "    \n",
    "    return output"
   ]
  },
  {
   "cell_type": "markdown",
   "id": "5d761154",
   "metadata": {},
   "source": [
    "## Q28 古典論理ゲート再現(4)"
   ]
  },
  {
   "cell_type": "markdown",
   "id": "5c324e29",
   "metadata": {},
   "source": [
    "Qiskitのxで表されるNOTゲート、cxで表されるCNOTゲート、およびccxで表されるToffoliゲートを使用して、ORを作成せよ。"
   ]
  },
  {
   "cell_type": "code",
   "execution_count": 33,
   "id": "49c16722",
   "metadata": {},
   "outputs": [],
   "source": [
    "def OR(input1,input2):\n",
    "  \n",
    "    q = QuantumRegister(3) # two qubits in which to encode the input, and one for the output\n",
    "    c = ClassicalRegister(1) # a bit to store the output\n",
    "    qc = QuantumCircuit(q, c) # this is where the quantum program goes\n",
    "    \n",
    "    # YOUR QUANTUM PROGRAM GOES HERE\n",
    "    qc.measure(q[2],c[0]) # YOU CAN CHANGE THIS IF YOU WANT TO\n",
    "    \n",
    "    # We'll run the program on a simulator\n",
    "    backend = Aer.get_backend('aer_simulator')\n",
    "    # Since the output will be deterministic, we can use just a single shot to get it\n",
    "    job = execute(qc,backend,shots=1,memory=True)\n",
    "    output = job.result().get_memory()[0]\n",
    "    \n",
    "    return output"
   ]
  },
  {
   "cell_type": "markdown",
   "id": "77e1ebd5",
   "metadata": {},
   "source": [
    "## Q29 ノイズモデル(1)\n",
    "Q24の回路に対して基本ビットフリップエラーノイズモデルを適用し、ノイズがある場合の振る舞いを確認せよ。"
   ]
  },
  {
   "cell_type": "markdown",
   "id": "d360d630",
   "metadata": {},
   "source": [
    "## Q30 ノイズモデル(2)\n",
    "Q24の回路に対してT1/T2 熱緩和モデルを適用し、ノイズがある場合の振る舞いを確認せよ。"
   ]
  },
  {
   "cell_type": "markdown",
   "id": "acf36d8d",
   "metadata": {},
   "source": [
    "## Q31 量子状態の可視化(1)\n",
    "ブロッホ球で|0>を描画せよ。"
   ]
  },
  {
   "cell_type": "markdown",
   "id": "9970a283",
   "metadata": {},
   "source": [
    "## Q32 量子状態の可視化(２)\n",
    "Bell状態をブロッホ球で表せ。"
   ]
  },
  {
   "cell_type": "markdown",
   "id": "08284ce1",
   "metadata": {},
   "source": [
    "## Q33 量子状態の可視化(３)\n",
    "Bell状態をqsphereで表し、ブロッホ球と比べてどのような利点があるか述べよ。"
   ]
  },
  {
   "cell_type": "markdown",
   "id": "6b3974d2",
   "metadata": {},
   "source": [
    "## Q34 グローバー探索\n",
    "$|111\\rangle$状態を増幅する3量子ビットのグローバー探索アルゴリズムを実装せよ。"
   ]
  },
  {
   "cell_type": "markdown",
   "id": "6b7026df",
   "metadata": {},
   "source": [
    "## Q35 量子ランダムウォーク\n",
    " 量子ビットを使ったランダムウォークをシミュレートするプログラムを作成せよ。初期状態は|0⟩とし、コインフリップをシミュレートするためにアダマールゲートを使用せよ。指定されたステップ数だけランダムウォークを進め、最終的な確率分布を出力するところまで行え。"
   ]
  },
  {
   "cell_type": "markdown",
   "id": "9e641c49",
   "metadata": {},
   "source": [
    "このプログラムは、初期状態を|0⟩とし、アダマールゲートを使用してコインフリップをシミュレートしながらランダムウォークを進めます。各ステップで量子ビットの状態を測定し、特定の条件で反転させます。最終的な確率分布を出力し、ヒストグラムとして表示します。必要に応じて、ステップ数やショット数などを調整してカスタマイズできます\n"
   ]
  },
  {
   "cell_type": "markdown",
   "id": "7ee4bf90",
   "metadata": {},
   "source": [
    "## Q36 Quadratic Program\n",
    "QuadraticProgramクラスを用いて、次の最適化問題を構築しなさい。\n",
    "\n",
    "maximize $x - 2y$\n",
    "\n",
    "$x, y \\in \\lbrace 0, 1\\rbrace$\n"
   ]
  },
  {
   "cell_type": "markdown",
   "id": "1ede9db9",
   "metadata": {},
   "source": [
    "## Q37 MinimumEigenOptimizer (1)\n",
    "Q36で構築した最適化問題を、MinimumEigenOptimizerを使用して解きなさい。ソルバーにはNumPyMinimumEigensolverを使用しなさい。"
   ]
  },
  {
   "cell_type": "markdown",
   "id": "ea68149e",
   "metadata": {},
   "source": [
    "## Q38 MinimumEigenOptimizer(2)\n",
    "Q36で構築した最適化問題を、Q2と同様にMinimumEigenOptimizerを使用して解きなさい。今回はソルバーとしてQAOAを使用しなさい。"
   ]
  },
  {
   "cell_type": "markdown",
   "id": "4cb21514",
   "metadata": {},
   "source": [
    "## Q39 MinimumEigenOptimizer\n",
    "Q36で構築した最適化問題を、Q2, Q3と同様にMinimumEigenOptimizerを使用して解きなさい。今回はソルバーとしてSamplingVQEを使用しなさい。"
   ]
  },
  {
   "cell_type": "markdown",
   "id": "cc60b534",
   "metadata": {},
   "source": [
    "## Q40 WarmStartQAOAOptimizer\n",
    "Q36で構築した最適化問題を、こんどはWarmStartQAOAOptimizerを使用して解きなさい。ソルバーとしてはSlsqpOptimizerを使用しなさい。"
   ]
  },
  {
   "cell_type": "markdown",
   "id": "77f373d7",
   "metadata": {},
   "source": [
    "## Q41 GroverOptimizer\n",
    "Q36で構築した最適化問題を、こんどはGroverOptimizerを使用して解きなさい。Samplerを使用しなさい。"
   ]
  },
  {
   "cell_type": "markdown",
   "id": "a897a599",
   "metadata": {},
   "source": [
    "## Q42 巡回セールスマン問題(1)\n",
    "networkxを用いて3つの地点のグラフを作成せよ。 各ルートには距離の重みづけをランダムに設定せよ。"
   ]
  },
  {
   "cell_type": "markdown",
   "id": "3fd4d430",
   "metadata": {},
   "source": [
    "## Q43 巡回セールスマン問題(2)\n",
    "Q42をburte force(総当たり)で解きなさい。"
   ]
  },
  {
   "cell_type": "markdown",
   "id": "58cba5fe",
   "metadata": {},
   "source": [
    "## Q44 巡回セールスマン問題(3)\n",
    "Q42を2次制約問題で表わしなさい"
   ]
  },
  {
   "cell_type": "markdown",
   "id": "8799bdf5",
   "metadata": {},
   "source": [
    "## Q45 巡回セールスマン問題(4)\n",
    "Q44の結果を2次式をquboで表わしなさい。"
   ]
  },
  {
   "cell_type": "markdown",
   "id": "0d324948",
   "metadata": {},
   "source": [
    "## Q46 巡回セールスマン問題(5)\n",
    "Q45をExactSolverで実行しなさい。"
   ]
  },
  {
   "cell_type": "markdown",
   "id": "fda6275a",
   "metadata": {},
   "source": [
    "## Q47 巡回セールスマン問題(6)\n",
    "Q46が正しいコストが与えられているか確認しなさい。"
   ]
  },
  {
   "cell_type": "markdown",
   "id": "6cc7fbbf",
   "metadata": {},
   "source": [
    "## Q48 巡回セールスマン問題(7)\n",
    "Q45を量子コンピュータ(シミュレータ)で実行しなさい"
   ]
  },
  {
   "cell_type": "code",
   "execution_count": 56,
   "id": "0bc33447",
   "metadata": {},
   "outputs": [],
   "source": [
    "algorithm_globals.random_seed = 123\n",
    "seed = 10598"
   ]
  }
 ],
 "metadata": {
  "kernelspec": {
   "display_name": "Python 3",
   "language": "python",
   "name": "python3"
  },
  "language_info": {
   "codemirror_mode": {
    "name": "ipython",
    "version": 3
   },
   "file_extension": ".py",
   "mimetype": "text/x-python",
   "name": "python",
   "nbconvert_exporter": "python",
   "pygments_lexer": "ipython3",
   "version": "3.7.6"
  },
  "toc": {
   "base_numbering": 1,
   "nav_menu": {},
   "number_sections": false,
   "sideBar": true,
   "skip_h1_title": false,
   "title_cell": "Table of Contents",
   "title_sidebar": "Contents",
   "toc_cell": false,
   "toc_position": {},
   "toc_section_display": true,
   "toc_window_display": true
  }
 },
 "nbformat": 4,
 "nbformat_minor": 5
}
